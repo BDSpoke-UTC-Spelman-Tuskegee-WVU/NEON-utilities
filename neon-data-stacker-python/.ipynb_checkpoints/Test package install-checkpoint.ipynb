{
 "cells": [
  {
   "cell_type": "markdown",
   "metadata": {},
   "source": [
    "Testing install and import of R packages via Python. Code assumes R and rpy2 are installed on the local machine."
   ]
  },
  {
   "cell_type": "code",
   "execution_count": 1,
   "metadata": {},
   "outputs": [],
   "source": [
    "import rpy2\n",
    "import rpy2.robjects as robjects\n",
    "from rpy2.robjects.packages import importr"
   ]
  },
  {
   "cell_type": "code",
   "execution_count": 2,
   "metadata": {},
   "outputs": [],
   "source": [
    "base = importr('base')\n",
    "utils = importr('utils')"
   ]
  },
  {
   "cell_type": "markdown",
   "metadata": {},
   "source": [
    "Install and then import devtools R package."
   ]
  },
  {
   "cell_type": "code",
   "execution_count": 3,
   "metadata": {},
   "outputs": [
    {
     "name": "stdout",
     "output_type": "stream",
     "text": [
      "--- Please select a CRAN mirror for use in this session ---\n",
      "\n",
      "\n",
      "\n"
     ]
    },
    {
     "name": "stderr",
     "output_type": "stream",
     "text": [
      "/anaconda3/lib/python3.6/site-packages/rpy2/rinterface/__init__.py:145: RRuntimeWarning: Installing package into ‘/Users/clunch/Library/R/3.4/library’\n",
      "(as ‘lib’ is unspecified)\n",
      "\n",
      "  warnings.warn(x, RRuntimeWarning)\n"
     ]
    },
    {
     "name": "stdout",
     "output_type": "stream",
     "text": [
      "Secure CRAN mirrors\n",
      " \n",
      "\n",
      "\n",
      "\n",
      "\n",
      "\n",
      " 1: 0-Cloud [https]                   2: Algeria [https]                \n",
      " 3: Australia (Canberra) [https]      4: Australia (Melbourne 1) [https]\n",
      " 5: Australia (Melbourne 2) [https]   6: Australia (Perth) [https]      \n",
      " 7: Austria [https]                   8: Belgium (Ghent) [https]        \n",
      " 9: Brazil (PR) [https]              10: Brazil (RJ) [https]            \n",
      "11: Brazil (SP 1) [https]            12: Brazil (SP 2) [https]          \n",
      "13: Bulgaria [https]                 14: Chile 1 [https]                \n",
      "15: Chile 2 [https]                  16: China (Guangzhou) [https]      \n",
      "17: China (Lanzhou) [https]          18: China (Shanghai) [https]       \n",
      "19: Colombia (Cali) [https]          20: Czech Republic [https]         \n",
      "21: Denmark [https]                  22: East Asia [https]              \n",
      "23: Ecuador (Cuenca) [https]         24: Ecuador (Quito) [https]        \n",
      "25: Estonia [https]                  26: France (Lyon 1) [https]        \n",
      "27: France (Lyon 2) [https]          28: France (Marseille) [https]     \n",
      "29: France (Montpellier) [https]     30: France (Paris 2) [https]       \n",
      "31: Germany (Erlangen) [https]       32: Germany (Göttingen) [https]    \n",
      "33: Germany (Münster) [https]        34: Greece [https]                 \n",
      "35: Iceland [https]                  36: Indonesia (Jakarta) [https]    \n",
      "37: Ireland [https]                  38: Italy (Padua) [https]          \n",
      "39: Japan (Tokyo) [https]            40: Japan (Yonezawa) [https]       \n",
      "41: Malaysia [https]                 42: Mexico (Mexico City) [https]   \n",
      "43: Norway [https]                   44: Philippines [https]            \n",
      "45: Serbia [https]                   46: Spain (A Coruña) [https]       \n",
      "47: Spain (Madrid) [https]           48: Sweden [https]                 \n",
      "49: Switzerland [https]              50: Turkey (Denizli) [https]       \n",
      "51: Turkey (Mersin) [https]          52: UK (Bristol) [https]           \n",
      "53: UK (Cambridge) [https]           54: UK (London 1) [https]          \n",
      "55: USA (CA 1) [https]               56: USA (IA) [https]               \n",
      "57: USA (KS) [https]                 58: USA (MI 1) [https]             \n",
      "59: USA (NY) [https]                 60: USA (OR) [https]               \n",
      "61: USA (TN) [https]                 62: USA (TX 1) [https]             \n",
      "63: Vietnam [https]                  64: (other mirrors)                \n",
      "\n",
      "\n",
      "\n",
      "\n",
      "\n",
      "\n",
      "Selection: 56\n"
     ]
    },
    {
     "name": "stderr",
     "output_type": "stream",
     "text": [
      "/anaconda3/lib/python3.6/site-packages/rpy2/rinterface/__init__.py:145: RRuntimeWarning: trying URL 'https://mirror.las.iastate.edu/CRAN/bin/macosx/el-capitan/contrib/3.4/devtools_1.13.5.tgz'\n",
      "\n",
      "  warnings.warn(x, RRuntimeWarning)\n",
      "/anaconda3/lib/python3.6/site-packages/rpy2/rinterface/__init__.py:145: RRuntimeWarning: Content type 'application/x-gzip'\n",
      "  warnings.warn(x, RRuntimeWarning)\n",
      "/anaconda3/lib/python3.6/site-packages/rpy2/rinterface/__init__.py:145: RRuntimeWarning:  length 439289 bytes (428 KB)\n",
      "\n",
      "  warnings.warn(x, RRuntimeWarning)\n",
      "/anaconda3/lib/python3.6/site-packages/rpy2/rinterface/__init__.py:145: RRuntimeWarning: =\n",
      "  warnings.warn(x, RRuntimeWarning)\n",
      "/anaconda3/lib/python3.6/site-packages/rpy2/rinterface/__init__.py:145: RRuntimeWarning: \n",
      "\n",
      "  warnings.warn(x, RRuntimeWarning)\n",
      "/anaconda3/lib/python3.6/site-packages/rpy2/rinterface/__init__.py:145: RRuntimeWarning: downloaded 428 KB\n",
      "\n",
      "\n",
      "  warnings.warn(x, RRuntimeWarning)\n"
     ]
    },
    {
     "name": "stdout",
     "output_type": "stream",
     "text": [
      "\n",
      "\n",
      "\n",
      "The downloaded binary packages are in\n",
      "\t/var/folders/_k/gbjn452j1h3fk7880d5ppkx1_9xf6m/T//RtmpCPHIM5/downloaded_packages\n",
      "\n",
      "\n",
      "\n"
     ]
    }
   ],
   "source": [
    "utils.install_packages('devtools')\n",
    "devtools = importr('devtools')"
   ]
  },
  {
   "cell_type": "markdown",
   "metadata": {},
   "source": [
    "Install and then import the \"emo\" package from Hadley Wickham's GitHub."
   ]
  },
  {
   "cell_type": "code",
   "execution_count": 4,
   "metadata": {},
   "outputs": [
    {
     "name": "stderr",
     "output_type": "stream",
     "text": [
      "/anaconda3/lib/python3.6/site-packages/rpy2/rinterface/__init__.py:145: RRuntimeWarning: Downloading GitHub repo hadley/emo@master\n",
      "from URL https://api.github.com/repos/hadley/emo/zipball/master\n",
      "\n",
      "  warnings.warn(x, RRuntimeWarning)\n",
      "/anaconda3/lib/python3.6/site-packages/rpy2/rinterface/__init__.py:145: RRuntimeWarning: Installing emo\n",
      "\n",
      "  warnings.warn(x, RRuntimeWarning)\n",
      "/anaconda3/lib/python3.6/site-packages/rpy2/rinterface/__init__.py:145: RRuntimeWarning: '/Library/Frameworks/R.framework/Resources/bin/R' --no-site-file --no-environ  \\\n",
      "  --no-save --no-restore --quiet CMD INSTALL  \\\n",
      "  '/private/var/folders/_k/gbjn452j1h3fk7880d5ppkx1_9xf6m/T/RtmpCPHIM5/devtoolsa7a7e3fd00c/hadley-emo-16094f0'  \\\n",
      "  --library='/Users/clunch/Library/R/3.4/library' --install-tests \n",
      "\n",
      "  warnings.warn(x, RRuntimeWarning)\n",
      "/anaconda3/lib/python3.6/site-packages/rpy2/rinterface/__init__.py:145: RRuntimeWarning: \n",
      "\n",
      "  warnings.warn(x, RRuntimeWarning)\n"
     ]
    }
   ],
   "source": [
    "devtools.install_github('hadley/emo');\n",
    "emo = importr('emo')"
   ]
  },
  {
   "cell_type": "code",
   "execution_count": 6,
   "metadata": {},
   "outputs": [
    {
     "data": {
      "text/html": [
       "\n",
       "    <span>StrVector with 1 elements.</span>\n",
       "    <table>\n",
       "      <tbody>\n",
       "      <tr>\n",
       "      \n",
       "      <td>\n",
       "        '👍'\n",
       "      </td>\n",
       "      \n",
       "      </tr>\n",
       "      </tbody>\n",
       "    </table>\n",
       "    "
      ],
      "text/plain": [
       "R object with classes: ('emoji',) mapped to:\n",
       "<StrVector - Python:0x10c8ecb08 / R:0x7fdc66e703c8>\n",
       "['👍']"
      ]
     },
     "execution_count": 6,
     "metadata": {},
     "output_type": "execute_result"
    }
   ],
   "source": [
    "emo.ji('+1')"
   ]
  }
 ],
 "metadata": {
  "kernelspec": {
   "display_name": "Python 3",
   "language": "python",
   "name": "python3"
  },
  "language_info": {
   "codemirror_mode": {
    "name": "ipython",
    "version": 3
   },
   "file_extension": ".py",
   "mimetype": "text/x-python",
   "name": "python",
   "nbconvert_exporter": "python",
   "pygments_lexer": "ipython3",
   "version": "3.6.4"
  }
 },
 "nbformat": 4,
 "nbformat_minor": 2
}
